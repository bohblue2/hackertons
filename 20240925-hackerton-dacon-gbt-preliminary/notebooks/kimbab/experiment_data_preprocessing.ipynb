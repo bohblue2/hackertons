{
 "cells": [
  {
   "cell_type": "code",
   "execution_count": 1,
   "metadata": {},
   "outputs": [],
   "source": [
    "import sys\n",
    "import os\n",
    "sys.path.append(\"/Users/baeyeongmin/Desktop/workspace/dacon-2024-gbt-hackerton\")\n",
    "sys.path.append(\"/root/dacon-2024-gbt-hackerton\")"
   ]
  },
  {
   "cell_type": "code",
   "execution_count": 3,
   "metadata": {},
   "outputs": [],
   "source": [
    "from src import root_path\n",
    "from src.data_processing import load_data\n",
    "train_df, test_df = load_data(root_path=root_path)"
   ]
  },
  {
   "cell_type": "code",
   "execution_count": 8,
   "metadata": {},
   "outputs": [],
   "source": [
    "import pygwalker as pyg"
   ]
  },
  {
   "cell_type": "code",
   "execution_count": 9,
   "metadata": {},
   "outputs": [
    {
     "data": {
      "application/vnd.jupyter.widget-view+json": {
       "model_id": "b2de155b8962418880f931d0f762edd8",
       "version_major": 2,
       "version_minor": 0
      },
      "text/plain": [
       "Box(children=(HTML(value='<div id=\"ifr-pyg-0\" style=\"height: auto\">\\n    <head>\\n        <meta http-equiv=\"Con…"
      ]
     },
     "metadata": {},
     "output_type": "display_data"
    },
    {
     "data": {
      "text/html": [],
      "text/plain": [
       "<IPython.core.display.HTML object>"
      ]
     },
     "metadata": {},
     "output_type": "display_data"
    }
   ],
   "source": [
    "walker = pyg.walk(train_df[train_df['분류'] != '지역'])"
   ]
  },
  {
   "cell_type": "code",
   "execution_count": 10,
   "metadata": {},
   "outputs": [],
   "source": [
    "import re\n",
    "def normalize_title(text):\n",
    "    text = re.sub(r'\\s+', ' ', text).strip()\n",
    "    return text.strip()\n",
    "\n",
    "def normalize_keywords(text):\n",
    "    text = re.sub(r'[^가-힣\\s,]', '', text)\n",
    "    text = re.sub(r'\\s+', ' ', text).strip()\n",
    "    return text.strip()\n",
    "\n",
    "def clean_keywords(keywords):\n",
    "    keywords = keywords.split(',')\n",
    "    keywords = [keyword.strip() for keyword in keywords if keyword.strip()]\n",
    "    return ' '.join(keywords)\n",
    "\n",
    "train_df['title'] = train_df['제목'].apply(normalize_title)\n",
    "train_df['keywords'] = train_df['키워드'].apply(lambda x: clean_keywords(normalize_keywords(x)))\n",
    "train_df['text'] = train_df['title'] + ' [SEP] ' + train_df['keywords']\n",
    "\n",
    "test_df['title'] = test_df['제목'].apply(normalize_title)\n",
    "test_df['keywords'] = test_df['키워드'].apply(lambda x: clean_keywords(normalize_keywords(x)))\n",
    "test_df['text'] = test_df['title'] + ' [SEP] ' + test_df['keywords']"
   ]
  },
  {
   "cell_type": "code",
   "execution_count": 11,
   "metadata": {},
   "outputs": [],
   "source": [
    "def get_length(text):\n",
    "    return len(text.split())\n",
    "\n",
    "# 제목, 키워드, 전체 텍스트의 길이 계산\n",
    "train_df['title_length'] = train_df['title'].apply(get_length)\n",
    "train_df['keywords_length'] = train_df['keywords'].apply(get_length)\n",
    "train_df['total_length'] = train_df['text'].apply(get_length)\n",
    "\n",
    "DISPLAY = False \n",
    "if DISPLAY:\n",
    "    # 길이 통계 출력\n",
    "    print(\"제목 길이 통계:\")\n",
    "    print(train_df['title_length'].describe())\n",
    "    print(\"\\n키워드 길이 통계:\")\n",
    "    print(train_df['keywords_length'].describe())\n",
    "    print(\"\\n전체 텍스트 길이 통계:\")\n",
    "    print(train_df['total_length'].describe())"
   ]
  },
  {
   "cell_type": "code",
   "execution_count": 12,
   "metadata": {},
   "outputs": [],
   "source": [
    "from src.data_processing import get_label_encoded\n",
    "\n",
    "train_df, label_encoder = get_label_encoded(train_df)"
   ]
  },
  {
   "cell_type": "markdown",
   "metadata": {},
   "source": [
    "## Class imbalance problem\n",
    "### Training Stage\n",
    "1. model 1: 지역=1, 지역이 아닌 라벨=0 으로 한 binanry classification model\n",
    "2. model 2: 라벨이 0으로 classification model에 대해서 다시 나머지 55개 주제에 대해서 classification model(지역 라벨에 대한 로우들은 모두 제거한 데이터로 학습+Focal loss)\n",
    "\n",
    "### inference Stage\n",
    "- model 1 추론 후 model 2 추론하면 끝.\n"
   ]
  },
  {
   "cell_type": "code",
   "execution_count": 13,
   "metadata": {},
   "outputs": [],
   "source": [
    "from src.data_processing import get_label_encoded\n",
    "\n",
    "# 기존 레이블 인코딩 유지\n",
    "train_df, label_encoder = get_label_encoded(train_df)\n",
    "# 모델 1을 위한 이진 분류 레이블 생성\n",
    "train_df['label_model1'] = (train_df['분류'] == '지역').astype(int)\n",
    "# 모델 2를 위한 데이터셋 생성 (지역 제외)\n",
    "train_df_model2 = train_df[train_df['분류'] != '지역'].copy()\n",
    "train_df_model2['label_model2'] = train_df_model2['label']\n",
    "\n",
    "DISPLAY = False \n",
    "if DISPLAY:\n",
    "    # 결과 확인\n",
    "    print(\"모델 1 데이터:\")\n",
    "    print(train_df[['분류', 'label', 'label_model1']].head(10))\n",
    "    print(\"\\n모델 1 레이블 분포:\")\n",
    "    print(train_df['label_model1'].value_counts())\n",
    "\n",
    "    print(\"\\n모델 2 데이터:\")\n",
    "    print(train_df_model2[['분류', 'label', 'label_model2']].head(10))\n",
    "    print(\"\\n모델 2 레이블 분포:\")\n",
    "    print(train_df_model2['label_model2'].value_counts())\n",
    "\n",
    "    # 데이터셋 크기 확인\n",
    "    print(\"\\n전체 데이터셋 크기:\", len(train_df))\n",
    "    print(\"모델 2 데이터셋 크기:\", len(train_df_model2))"
   ]
  },
  {
   "cell_type": "code",
   "execution_count": 21,
   "metadata": {},
   "outputs": [],
   "source": [
    "secondary_df = train_df[train_df['분류'] != '지역'].copy()\n",
    "primary_df = train_df.copy()\n",
    "primary_df.loc[primary_df['분류'] != '지역', '분류'] = '비지역'\n"
   ]
  },
  {
   "cell_type": "code",
   "execution_count": null,
   "metadata": {},
   "outputs": [],
   "source": [
    "from src.data_processing import split_data\n",
    "\n",
    "tdf1, vdf1 = split_data(train_df, test_size=0.2, random_state=42, stratify_col='label_model1')\n",
    "tdf2, vdf2 = split_data(train_df_model2, test_size=0.2, random_state=42, stratify_col='label_model2')"
   ]
  },
  {
   "cell_type": "code",
   "execution_count": 1,
   "metadata": {},
   "outputs": [
    {
     "data": {
      "text/plain": [
       "'root'"
      ]
     },
     "execution_count": 1,
     "metadata": {},
     "output_type": "execute_result"
    }
   ],
   "source": [
    "import os\n",
    "os.getlogin()"
   ]
  },
  {
   "cell_type": "code",
   "execution_count": null,
   "metadata": {},
   "outputs": [],
   "source": []
  }
 ],
 "metadata": {
  "kernelspec": {
   "display_name": "Python 3",
   "language": "python",
   "name": "python3"
  },
  "language_info": {
   "codemirror_mode": {
    "name": "ipython",
    "version": 3
   },
   "file_extension": ".py",
   "mimetype": "text/x-python",
   "name": "python",
   "nbconvert_exporter": "python",
   "pygments_lexer": "ipython3",
   "version": "3.11.9"
  }
 },
 "nbformat": 4,
 "nbformat_minor": 2
}
