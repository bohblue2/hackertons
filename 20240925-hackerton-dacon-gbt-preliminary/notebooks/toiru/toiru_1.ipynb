{
 "cells": [
  {
   "cell_type": "code",
   "execution_count": 1,
   "id": "308b4a17-41ad-475b-8708-dfb543d6edb7",
   "metadata": {},
   "outputs": [],
   "source": [
    "import pandas as pd\n",
    "import numpy as np\n",
    "import re\n",
    "from sklearn.model_selection import train_test_split\n",
    "from sklearn.metrics import f1_score, accuracy_score\n",
    "from transformers import ElectraTokenizer, ElectraForSequenceClassification, AdamW\n",
    "from torch.utils.data import Dataset, DataLoader\n",
    "import torch\n",
    "from tqdm import tqdm\n",
    "pd.set_option('display.max_columns', None)  # 모든 열 보이기\n",
    "pd.set_option('display.max_rows', None)     # 모든 행 보이기"
   ]
  },
  {
   "cell_type": "code",
   "execution_count": 2,
   "id": "c217d51a-581c-4d4c-a113-f1050596d594",
   "metadata": {},
   "outputs": [],
   "source": [
    "def set_seed(seed=42):\n",
    "    np.random.seed(seed)\n",
    "    torch.manual_seed(seed)\n",
    "    if torch.cuda.is_available():\n",
    "        torch.cuda.manual_seed_all(seed)\n",
    "set_seed()"
   ]
  },
  {
   "cell_type": "code",
   "execution_count": 3,
   "id": "595ca1fc-ab32-419d-9ecb-be2fa59c2f7d",
   "metadata": {},
   "outputs": [],
   "source": [
    "class CFG:\n",
    "    max_len = 512\n",
    "    batch_size = 16\n",
    "    learning_rate = 2e-5\n",
    "    epochs = 7\n",
    "    device = torch.device('cuda:1' if torch.cuda.is_available() else 'cpu')"
   ]
  },
  {
   "cell_type": "code",
   "execution_count": 4,
   "id": "55108956-e8d6-49e0-b9d2-e4456f7dce08",
   "metadata": {},
   "outputs": [],
   "source": [
    "# 데이터 로드\n",
    "train_df = pd.read_csv(\"data/train.csv\")\n",
    "test_df = pd.read_csv(\"data/test.csv\")"
   ]
  },
  {
   "cell_type": "code",
   "execution_count": 5,
   "id": "b7d8051d-e815-4980-ad98-9d84b5361a70",
   "metadata": {},
   "outputs": [],
   "source": [
    "train_df.dropna(inplace=True)\n",
    "train_df.drop_duplicates(subset=['제목', '키워드'], keep='first', inplace=True)"
   ]
  },
  {
   "cell_type": "code",
   "execution_count": 6,
   "id": "50a572a5-9c05-4f65-bf5a-65cf02113932",
   "metadata": {},
   "outputs": [],
   "source": [
    "def normalize_title(text):\n",
    "    text = re.sub(r'\\s+', ' ', text).strip()\n",
    "    return text.strip()\n",
    "\n",
    "def normalize_keywords(text):\n",
    "    text = re.sub(r'[^가-힣\\s,]', '', text)\n",
    "    text = re.sub(r'\\s+', ' ', text).strip()\n",
    "    return text.strip()\n",
    "\n",
    "def clean_keywords(keywords):\n",
    "    keywords = keywords.split(',')\n",
    "    keywords = [keyword.strip() for keyword in keywords if keyword.strip()]\n",
    "    return ' '.join(keywords)\n",
    "\n",
    "train_df['title'] = train_df['제목'].apply(normalize_title)\n",
    "train_df['keywords'] = train_df['키워드'].apply(lambda x: clean_keywords(normalize_keywords(x)))\n",
    "train_df['text'] = train_df['title'] + ' [SEP] ' + train_df['keywords']\n",
    "\n",
    "test_df['title'] = test_df['제목'].apply(normalize_title)\n",
    "test_df['keywords'] = test_df['키워드'].apply(lambda x: clean_keywords(normalize_keywords(x)))\n",
    "test_df['text'] = test_df['title'] + ' [SEP] ' + test_df['keywords']"
   ]
  },
  {
   "cell_type": "code",
   "execution_count": 7,
   "id": "e29131cd-c848-408f-9141-e748a03de093",
   "metadata": {},
   "outputs": [
    {
     "name": "stdout",
     "output_type": "stream",
     "text": [
      "제목 길이 통계:\n",
      "count    54315.000000\n",
      "mean         7.444444\n",
      "std          2.078915\n",
      "min          1.000000\n",
      "25%          6.000000\n",
      "50%          7.000000\n",
      "75%          9.000000\n",
      "max         27.000000\n",
      "Name: title_length, dtype: float64\n",
      "\n",
      "키워드 길이 통계:\n",
      "count    54315.000000\n",
      "mean       165.699199\n",
      "std        113.597436\n",
      "min          4.000000\n",
      "25%         99.000000\n",
      "50%        142.000000\n",
      "75%        203.000000\n",
      "max       2628.000000\n",
      "Name: keywords_length, dtype: float64\n",
      "\n",
      "전체 텍스트 길이 통계:\n",
      "count    54315.000000\n",
      "mean       174.143644\n",
      "std        114.068817\n",
      "min          6.000000\n",
      "25%        107.000000\n",
      "50%        150.000000\n",
      "75%        212.000000\n",
      "max       2637.000000\n",
      "Name: total_length, dtype: float64\n"
     ]
    }
   ],
   "source": [
    "def get_length(text):\n",
    "    return len(text.split())\n",
    "\n",
    "# 제목, 키워드, 전체 텍스트의 길이 계산\n",
    "train_df['title_length'] = train_df['title'].apply(get_length)\n",
    "train_df['keywords_length'] = train_df['keywords'].apply(get_length)\n",
    "train_df['total_length'] = train_df['text'].apply(get_length)\n",
    "\n",
    "# 길이 통계 출력\n",
    "print(\"제목 길이 통계:\")\n",
    "print(train_df['title_length'].describe())\n",
    "print(\"\\n키워드 길이 통계:\")\n",
    "print(train_df['keywords_length'].describe())\n",
    "print(\"\\n전체 텍스트 길이 통계:\")\n",
    "print(train_df['total_length'].describe())"
   ]
  },
  {
   "cell_type": "code",
   "execution_count": 17,
   "id": "5347ba68-96ec-4371-a81f-17dd1bf4eb48",
   "metadata": {},
   "outputs": [
    {
     "name": "stdout",
     "output_type": "stream",
     "text": [
      "라벨별 개수:\n",
      "지역: 21480\n",
      "경제:부동산: 2758\n",
      "사회:사건_사고: 2036\n",
      "경제:반도체: 1847\n",
      "사회:사회일반: 1166\n",
      "사회:교육_시험: 794\n",
      "정치:국회_정당: 772\n",
      "사회:의료_건강: 749\n",
      "경제:취업_창업: 674\n",
      "스포츠:올림픽_아시안게임: 666\n",
      "경제:산업_기업: 566\n",
      "문화:전시_공연: 534\n",
      "경제:자동차: 502\n",
      "경제:경제일반: 497\n",
      "사회:장애인: 497\n",
      "스포츠:골프: 491\n",
      "정치:선거: 483\n",
      "경제:유통: 467\n",
      "사회:여성: 427\n",
      "IT_과학:모바일: 426\n",
      "사회:노동_복지: 353\n",
      "사회:환경: 317\n",
      "경제:서비스_쇼핑: 310\n",
      "경제:무역: 298\n",
      "정치:행정_자치: 278\n",
      "문화:방송_연예: 267\n",
      "국제: 262\n",
      "경제:금융_재테크: 261\n",
      "스포츠:축구: 255\n",
      "정치:청와대: 223\n",
      "문화:출판: 196\n",
      "IT_과학:IT_과학일반: 194\n",
      "IT_과학:인터넷_SNS: 190\n",
      "문화:미술_건축: 183\n",
      "정치:정치일반: 177\n",
      "IT_과학:과학: 172\n",
      "문화:문화일반: 168\n",
      "문화:학술_문화재: 160\n",
      "문화:요리_여행: 147\n",
      "경제:자원: 142\n",
      "문화:종교: 138\n",
      "IT_과학:콘텐츠: 128\n",
      "사회:미디어: 102\n",
      "사회:날씨: 95\n",
      "스포츠:농구_배구: 90\n",
      "문화:음악: 87\n",
      "문화:생활: 80\n",
      "IT_과학:보안: 74\n",
      "스포츠:월드컵: 71\n",
      "경제:증권_증시: 59\n",
      "정치:북한: 54\n",
      "정치:외교: 25\n",
      "스포츠:스포츠일반: 23\n",
      "문화:영화: 21\n",
      "스포츠:야구: 13\n",
      "경제:외환: 7\n",
      "고유한 분류 라벨:\n",
      "1. IT_과학:IT_과학일반\n",
      "2. IT_과학:과학\n",
      "3. IT_과학:모바일\n",
      "4. IT_과학:보안\n",
      "5. IT_과학:인터넷_SNS\n",
      "6. IT_과학:콘텐츠\n",
      "7. 경제:경제일반\n",
      "8. 경제:금융_재테크\n",
      "9. 경제:무역\n",
      "10. 경제:반도체\n",
      "11. 경제:부동산\n",
      "12. 경제:산업_기업\n",
      "13. 경제:서비스_쇼핑\n",
      "14. 경제:외환\n",
      "15. 경제:유통\n",
      "16. 경제:자동차\n",
      "17. 경제:자원\n",
      "18. 경제:증권_증시\n",
      "19. 경제:취업_창업\n",
      "20. 국제\n",
      "21. 문화:문화일반\n",
      "22. 문화:미술_건축\n",
      "23. 문화:방송_연예\n",
      "24. 문화:생활\n",
      "25. 문화:영화\n",
      "26. 문화:요리_여행\n",
      "27. 문화:음악\n",
      "28. 문화:전시_공연\n",
      "29. 문화:종교\n",
      "30. 문화:출판\n",
      "31. 문화:학술_문화재\n",
      "32. 사회:교육_시험\n",
      "33. 사회:날씨\n",
      "34. 사회:노동_복지\n",
      "35. 사회:미디어\n",
      "36. 사회:사건_사고\n",
      "37. 사회:사회일반\n",
      "38. 사회:여성\n",
      "39. 사회:의료_건강\n",
      "40. 사회:장애인\n",
      "41. 사회:환경\n",
      "42. 스포츠:골프\n",
      "43. 스포츠:농구_배구\n",
      "44. 스포츠:스포츠일반\n",
      "45. 스포츠:야구\n",
      "46. 스포츠:올림픽_아시안게임\n",
      "47. 스포츠:월드컵\n",
      "48. 스포츠:축구\n",
      "49. 정치:국회_정당\n",
      "50. 정치:북한\n",
      "51. 정치:선거\n",
      "52. 정치:외교\n",
      "53. 정치:정치일반\n",
      "54. 정치:청와대\n",
      "55. 정치:행정_자치\n",
      "56. 지역\n",
      "\n",
      "총 고유 라벨 수: 56\n"
     ]
    }
   ],
   "source": [
    "# 고유한 분류 라벨 추출\n",
    "unique_labels = train_df['분류'].unique()\n",
    "label_counts = train_df['분류'].value_counts()\n",
    "\n",
    "# 정렬 (선택사항)\n",
    "unique_labels.sort()\n",
    "\n",
    "# 정렬 (선택사항)\n",
    "label_counts_sorted = label_counts.sort_values(ascending=False)\n",
    "\n",
    "# 라벨별 개수 출력\n",
    "print(\"라벨별 개수:\")\n",
    "for label, count in label_counts_sorted.items():\n",
    "    print(f\"{label}: {count}\")\n",
    "    \n",
    "# 고유한 라벨 출력\n",
    "print(\"고유한 분류 라벨:\")\n",
    "for i, label in enumerate(unique_labels, 1):\n",
    "    print(f\"{i}. {label}\")\n",
    "\n",
    "# 총 고유 라벨 수 출력\n",
    "print(f\"\\n총 고유 라벨 수: {len(unique_labels)}\")"
   ]
  },
  {
   "cell_type": "code",
   "execution_count": 9,
   "id": "68582907-0363-4bff-8d29-a8b956b19223",
   "metadata": {},
   "outputs": [],
   "source": [
    "# 레이블 인코딩\n",
    "label_encoder = {label: i for i, label in enumerate(train_df['분류'].unique())}\n",
    "train_df['label'] = train_df['분류'].map(label_encoder)\n",
    "\n",
    "# 학습 및 검증 데이터 분할\n",
    "train_df, val_df = train_test_split(train_df, test_size=0.2, stratify=train_df['분류'], random_state=42)"
   ]
  },
  {
   "cell_type": "code",
   "execution_count": 10,
   "id": "dad6262c-9a29-4734-8005-6dcd93501400",
   "metadata": {},
   "outputs": [],
   "source": [
    "class TextDataset(Dataset):\n",
    "    def __init__(self, texts, labels, tokenizer, max_len=512):\n",
    "        self.texts = texts\n",
    "        self.labels = labels\n",
    "        self.tokenizer = tokenizer\n",
    "        self.max_len = max_len\n",
    "    \n",
    "    def __len__(self):\n",
    "        return len(self.texts)\n",
    "    \n",
    "    def __getitem__(self, item):\n",
    "        text = str(self.texts[item])\n",
    "        label = self.labels[item] if self.labels is not None else -1\n",
    "        \n",
    "        encoding = self.tokenizer.encode_plus(\n",
    "            text,\n",
    "            add_special_tokens=True,\n",
    "            max_length=self.max_len,\n",
    "            return_token_type_ids=False,\n",
    "            padding='max_length',\n",
    "            truncation=True,\n",
    "            return_attention_mask=True,\n",
    "            return_tensors='pt',\n",
    "        )\n",
    "        \n",
    "        return {\n",
    "            'text': text,\n",
    "            'input_ids': encoding['input_ids'].flatten(),\n",
    "            'attention_mask': encoding['attention_mask'].flatten(),\n",
    "            'labels': torch.tensor(label, dtype=torch.long)\n",
    "        }"
   ]
  },
  {
   "cell_type": "code",
   "execution_count": 11,
   "id": "444c8e1d-82e5-42e3-9889-63542a5b2a63",
   "metadata": {},
   "outputs": [
    {
     "name": "stderr",
     "output_type": "stream",
     "text": [
      "/root/miniconda3/envs/py3.10/lib/python3.10/site-packages/huggingface_hub/file_download.py:1142: FutureWarning: `resume_download` is deprecated and will be removed in version 1.0.0. Downloads always resume when possible. If you want to force a new download, use `force_download=True`.\n",
      "  warnings.warn(\n",
      "Some weights of ElectraForSequenceClassification were not initialized from the model checkpoint at monologg/koelectra-base-v3-discriminator and are newly initialized: ['classifier.dense.bias', 'classifier.dense.weight', 'classifier.out_proj.bias', 'classifier.out_proj.weight']\n",
      "You should probably TRAIN this model on a down-stream task to be able to use it for predictions and inference.\n",
      "/root/miniconda3/envs/py3.10/lib/python3.10/site-packages/transformers/optimization.py:429: FutureWarning: This implementation of AdamW is deprecated and will be removed in a future version. Use the PyTorch implementation torch.optim.AdamW instead, or set `no_deprecation_warning=True` to disable this warning\n",
      "  warnings.warn(\n"
     ]
    }
   ],
   "source": [
    "# 토크나이저 및 모델 로드\n",
    "tokenizer = ElectraTokenizer.from_pretrained('monologg/koelectra-base-v3-discriminator')\n",
    "model = ElectraForSequenceClassification.from_pretrained('monologg/koelectra-base-v3-discriminator', num_labels=len(label_encoder)).to(CFG.device)\n",
    "\n",
    "# 데이터셋 및 데이터로더 생성\n",
    "train_dataset = TextDataset(train_df.text.tolist(), train_df.label.tolist(), tokenizer, CFG.max_len)\n",
    "val_dataset = TextDataset(val_df.text.tolist(), val_df.label.tolist(), tokenizer, CFG.max_len)\n",
    "test_dataset = TextDataset(test_df.text.tolist(), None, tokenizer, CFG.max_len)\n",
    "\n",
    "train_loader = DataLoader(train_dataset, batch_size=CFG.batch_size, shuffle=True)\n",
    "val_loader = DataLoader(val_dataset, batch_size=CFG.batch_size, shuffle=False)\n",
    "test_loader = DataLoader(test_dataset, batch_size=CFG.batch_size, shuffle=False)\n",
    "\n",
    "# 옵티마이저 설정\n",
    "optimizer = AdamW(model.parameters(), lr=CFG.learning_rate)"
   ]
  },
  {
   "cell_type": "code",
   "execution_count": 12,
   "id": "28790c51-376c-44ad-bc57-f9c40b93d8f2",
   "metadata": {},
   "outputs": [
    {
     "name": "stderr",
     "output_type": "stream",
     "text": [
      "Epoch 1/7: 100%|████████████████████████████████████████████████████████████████████████████████████████████████████████████████████████| 2716/2716 [16:51<00:00,  2.69it/s]\n"
     ]
    },
    {
     "name": "stdout",
     "output_type": "stream",
     "text": [
      "Epoch 1/7, Train Loss: 1.5357\n"
     ]
    },
    {
     "name": "stderr",
     "output_type": "stream",
     "text": [
      "Validating: 100%|█████████████████████████████████████████████████████████████████████████████████████████████████████████████████████████| 679/679 [01:42<00:00,  6.61it/s]\n"
     ]
    },
    {
     "name": "stdout",
     "output_type": "stream",
     "text": [
      "Validation Loss: 1.0378, Validation Accuracy: 0.7313, Validation F1 Score: 0.2643\n"
     ]
    },
    {
     "name": "stderr",
     "output_type": "stream",
     "text": [
      "Epoch 2/7: 100%|████████████████████████████████████████████████████████████████████████████████████████████████████████████████████████| 2716/2716 [16:49<00:00,  2.69it/s]\n"
     ]
    },
    {
     "name": "stdout",
     "output_type": "stream",
     "text": [
      "Epoch 2/7, Train Loss: 0.8631\n"
     ]
    },
    {
     "name": "stderr",
     "output_type": "stream",
     "text": [
      "Validating: 100%|█████████████████████████████████████████████████████████████████████████████████████████████████████████████████████████| 679/679 [01:42<00:00,  6.61it/s]\n"
     ]
    },
    {
     "name": "stdout",
     "output_type": "stream",
     "text": [
      "Validation Loss: 0.7931, Validation Accuracy: 0.7845, Validation F1 Score: 0.4219\n"
     ]
    },
    {
     "name": "stderr",
     "output_type": "stream",
     "text": [
      "Epoch 3/7: 100%|████████████████████████████████████████████████████████████████████████████████████████████████████████████████████████| 2716/2716 [16:50<00:00,  2.69it/s]\n"
     ]
    },
    {
     "name": "stdout",
     "output_type": "stream",
     "text": [
      "Epoch 3/7, Train Loss: 0.6540\n"
     ]
    },
    {
     "name": "stderr",
     "output_type": "stream",
     "text": [
      "Validating: 100%|█████████████████████████████████████████████████████████████████████████████████████████████████████████████████████████| 679/679 [01:42<00:00,  6.61it/s]\n"
     ]
    },
    {
     "name": "stdout",
     "output_type": "stream",
     "text": [
      "Validation Loss: 0.7309, Validation Accuracy: 0.7979, Validation F1 Score: 0.5017\n"
     ]
    },
    {
     "name": "stderr",
     "output_type": "stream",
     "text": [
      "Epoch 4/7: 100%|████████████████████████████████████████████████████████████████████████████████████████████████████████████████████████| 2716/2716 [16:49<00:00,  2.69it/s]\n"
     ]
    },
    {
     "name": "stdout",
     "output_type": "stream",
     "text": [
      "Epoch 4/7, Train Loss: 0.5291\n"
     ]
    },
    {
     "name": "stderr",
     "output_type": "stream",
     "text": [
      "Validating: 100%|█████████████████████████████████████████████████████████████████████████████████████████████████████████████████████████| 679/679 [01:42<00:00,  6.61it/s]\n"
     ]
    },
    {
     "name": "stdout",
     "output_type": "stream",
     "text": [
      "Validation Loss: 0.6856, Validation Accuracy: 0.8124, Validation F1 Score: 0.5391\n"
     ]
    },
    {
     "name": "stderr",
     "output_type": "stream",
     "text": [
      "Epoch 5/7: 100%|████████████████████████████████████████████████████████████████████████████████████████████████████████████████████████| 2716/2716 [16:50<00:00,  2.69it/s]\n"
     ]
    },
    {
     "name": "stdout",
     "output_type": "stream",
     "text": [
      "Epoch 5/7, Train Loss: 0.4175\n"
     ]
    },
    {
     "name": "stderr",
     "output_type": "stream",
     "text": [
      "Validating: 100%|█████████████████████████████████████████████████████████████████████████████████████████████████████████████████████████| 679/679 [01:42<00:00,  6.61it/s]\n"
     ]
    },
    {
     "name": "stdout",
     "output_type": "stream",
     "text": [
      "Validation Loss: 0.7113, Validation Accuracy: 0.8209, Validation F1 Score: 0.5722\n"
     ]
    },
    {
     "name": "stderr",
     "output_type": "stream",
     "text": [
      "Epoch 6/7: 100%|████████████████████████████████████████████████████████████████████████████████████████████████████████████████████████| 2716/2716 [16:49<00:00,  2.69it/s]\n"
     ]
    },
    {
     "name": "stdout",
     "output_type": "stream",
     "text": [
      "Epoch 6/7, Train Loss: 0.3457\n"
     ]
    },
    {
     "name": "stderr",
     "output_type": "stream",
     "text": [
      "Validating: 100%|█████████████████████████████████████████████████████████████████████████████████████████████████████████████████████████| 679/679 [01:42<00:00,  6.60it/s]\n"
     ]
    },
    {
     "name": "stdout",
     "output_type": "stream",
     "text": [
      "Validation Loss: 0.7235, Validation Accuracy: 0.8194, Validation F1 Score: 0.5931\n"
     ]
    },
    {
     "name": "stderr",
     "output_type": "stream",
     "text": [
      "Epoch 7/7: 100%|████████████████████████████████████████████████████████████████████████████████████████████████████████████████████████| 2716/2716 [16:50<00:00,  2.69it/s]\n"
     ]
    },
    {
     "name": "stdout",
     "output_type": "stream",
     "text": [
      "Epoch 7/7, Train Loss: 0.2592\n"
     ]
    },
    {
     "name": "stderr",
     "output_type": "stream",
     "text": [
      "Validating: 100%|█████████████████████████████████████████████████████████████████████████████████████████████████████████████████████████| 679/679 [01:42<00:00,  6.61it/s]"
     ]
    },
    {
     "name": "stdout",
     "output_type": "stream",
     "text": [
      "Validation Loss: 0.7651, Validation Accuracy: 0.8202, Validation F1 Score: 0.6185\n"
     ]
    },
    {
     "name": "stderr",
     "output_type": "stream",
     "text": [
      "\n"
     ]
    }
   ],
   "source": [
    "# 학습 및 검증\n",
    "for epoch in range(CFG.epochs):\n",
    "    model.train()\n",
    "    train_loss = 0\n",
    "    for batch in tqdm(train_loader, desc=f'Epoch {epoch + 1}/{CFG.epochs}'):\n",
    "        optimizer.zero_grad()\n",
    "        input_ids = batch['input_ids'].to(CFG.device)\n",
    "        attention_mask = batch['attention_mask'].to(CFG.device)\n",
    "        labels = batch['labels'].to(CFG.device)\n",
    "        \n",
    "        outputs = model(input_ids, attention_mask=attention_mask, labels=labels)\n",
    "        loss = outputs.loss\n",
    "        train_loss += loss.item()\n",
    "        \n",
    "        loss.backward()\n",
    "        optimizer.step()\n",
    "    \n",
    "    print(f\"Epoch {epoch + 1}/{CFG.epochs}, Train Loss: {train_loss / len(train_loader):.4f}\")\n",
    "    \n",
    "    # 검증\n",
    "    model.eval()\n",
    "    val_predictions = []\n",
    "    val_true_labels = []\n",
    "    val_loss = 0\n",
    "    \n",
    "    with torch.no_grad():\n",
    "        for batch in tqdm(val_loader, desc='Validating'):\n",
    "            input_ids = batch['input_ids'].to(CFG.device)\n",
    "            attention_mask = batch['attention_mask'].to(CFG.device)\n",
    "            labels = batch['labels'].to(CFG.device)\n",
    "            \n",
    "            outputs = model(input_ids, attention_mask=attention_mask, labels=labels)\n",
    "            loss = outputs.loss\n",
    "            val_loss += loss.item()\n",
    "            \n",
    "            _, preds = torch.max(outputs.logits, dim=1)\n",
    "            val_predictions.extend(preds.cpu().tolist())\n",
    "            val_true_labels.extend(labels.cpu().tolist())\n",
    "    \n",
    "    val_f1 = f1_score(val_true_labels, val_predictions, average='macro')\n",
    "    val_accuracy = accuracy_score(val_true_labels, val_predictions)\n",
    "    print(f\"Validation Loss: {val_loss / len(val_loader):.4f}, Validation Accuracy: {val_accuracy:.4f}, Validation F1 Score: {val_f1:.4f}\")"
   ]
  },
  {
   "cell_type": "code",
   "execution_count": 13,
   "id": "0458a22b-0c4f-4984-a7ea-cf68e017f6eb",
   "metadata": {},
   "outputs": [
    {
     "name": "stderr",
     "output_type": "stream",
     "text": [
      "Testing: 100%|██████████████████████████████████████████████████████████████████████████████████████████████████████████████████████████| 1463/1463 [03:42<00:00,  6.59it/s]\n"
     ]
    }
   ],
   "source": [
    "# 테스트 예측\n",
    "model.eval()\n",
    "test_predictions = []\n",
    "\n",
    "with torch.no_grad():\n",
    "    for batch in tqdm(test_loader, desc='Testing'):\n",
    "        input_ids = batch['input_ids'].to(CFG.device)\n",
    "        attention_mask = batch['attention_mask'].to(CFG.device)\n",
    "        \n",
    "        outputs = model(input_ids, attention_mask=attention_mask)\n",
    "        _, preds = torch.max(outputs.logits, dim=1)\n",
    "        test_predictions.extend(preds.cpu().tolist())"
   ]
  },
  {
   "cell_type": "code",
   "execution_count": 16,
   "id": "c77cd53d-edc7-4925-9bc8-97f83b0e8d5b",
   "metadata": {},
   "outputs": [
    {
     "name": "stdout",
     "output_type": "stream",
     "text": [
      "Prediction completed and submission file created.\n"
     ]
    }
   ],
   "source": [
    "# 예측 결과 디코딩\n",
    "label_decoder = {i: label for label, i in label_encoder.items()}\n",
    "decoded_predictions = [label_decoder[pred] for pred in test_predictions]\n",
    "\n",
    "# 제출 파일 생성\n",
    "sample_submission = pd.read_csv(\"data/sample_submission.csv\")\n",
    "sample_submission[\"분류\"] = decoded_predictions\n",
    "sample_submission.to_csv(\"submission_koelectra.csv\", encoding='UTF-8-sig', index=False)\n",
    "\n",
    "print(\"Prediction completed and submission file created.\")"
   ]
  },
  {
   "cell_type": "code",
   "execution_count": null,
   "id": "4ce2ea69-3fa2-4caf-8b26-663ca9a95d81",
   "metadata": {},
   "outputs": [],
   "source": []
  }
 ],
 "metadata": {
  "kernelspec": {
   "display_name": "Python 3 (ipykernel)",
   "language": "python",
   "name": "python3"
  },
  "language_info": {
   "codemirror_mode": {
    "name": "ipython",
    "version": 3
   },
   "file_extension": ".py",
   "mimetype": "text/x-python",
   "name": "python",
   "nbconvert_exporter": "python",
   "pygments_lexer": "ipython3",
   "version": "3.10.13"
  }
 },
 "nbformat": 4,
 "nbformat_minor": 5
}
